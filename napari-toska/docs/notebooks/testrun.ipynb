{
 "cells": [
  {
   "cell_type": "code",
   "execution_count": 1,
   "id": "dd4cee94",
   "metadata": {},
   "outputs": [],
   "source": [
    "import napari_toska as nts"
   ]
  },
  {
   "cell_type": "code",
   "execution_count": 2,
   "id": "af1a083d",
   "metadata": {},
   "outputs": [],
   "source": [
    "from skimage.morphology import skeletonize\n",
    "from skimage.data import cells3d\n",
    "from skimage.filters import threshold_otsu\n",
    "from scipy.ndimage import binary_fill_holes\n",
    "from skimage.measure import label\n",
    "import numpy as np\n",
    "import napari"
   ]
  },
  {
   "cell_type": "code",
   "execution_count": 3,
   "id": "f47f9a27",
   "metadata": {},
   "outputs": [
    {
     "data": {
      "text/plain": [
       "(60, 2, 256, 256)"
      ]
     },
     "execution_count": 3,
     "metadata": {},
     "output_type": "execute_result"
    }
   ],
   "source": [
    "cells3d().shape"
   ]
  },
  {
   "cell_type": "code",
   "execution_count": 4,
   "id": "5e7becba",
   "metadata": {},
   "outputs": [],
   "source": [
    "nuclei_3d = cells3d()[:,1,:,:]"
   ]
  },
  {
   "cell_type": "code",
   "execution_count": 5,
   "id": "92b63eb9",
   "metadata": {},
   "outputs": [],
   "source": [
    "thresh_nuclei = binary_fill_holes(nuclei_3d > threshold_otsu(nuclei_3d))"
   ]
  },
  {
   "cell_type": "code",
   "execution_count": 6,
   "id": "7e0e751f",
   "metadata": {},
   "outputs": [],
   "source": [
    "labels = label(thresh_nuclei)"
   ]
  },
  {
   "cell_type": "code",
   "execution_count": 7,
   "id": "b2e5ad03",
   "metadata": {},
   "outputs": [],
   "source": [
    "label_scalars = np.unique(labels)"
   ]
  },
  {
   "cell_type": "code",
   "execution_count": 8,
   "id": "db447dd0",
   "metadata": {},
   "outputs": [],
   "source": [
    "sizes = [np.sum(labels[labels==i]) for i in label_scalars]"
   ]
  },
  {
   "cell_type": "code",
   "execution_count": 9,
   "id": "a35ba606",
   "metadata": {},
   "outputs": [],
   "source": [
    "for index,size in enumerate(sizes):\n",
    "    if size < 10000:\n",
    "        labels[labels==index] = 0"
   ]
  },
  {
   "cell_type": "code",
   "execution_count": 12,
   "id": "992e4929",
   "metadata": {},
   "outputs": [],
   "source": [
    "viewer = napari.Viewer()"
   ]
  },
  {
   "cell_type": "code",
   "execution_count": 13,
   "id": "420d56d9",
   "metadata": {},
   "outputs": [
    {
     "data": {
      "text/plain": [
       "<Labels layer 'labels' at 0x1b9482c40>"
      ]
     },
     "execution_count": 13,
     "metadata": {},
     "output_type": "execute_result"
    }
   ],
   "source": [
    "viewer.add_labels(labels)"
   ]
  },
  {
   "cell_type": "code",
   "execution_count": 15,
   "id": "3bd833e8",
   "metadata": {},
   "outputs": [
    {
     "data": {
      "text/plain": [
       "<Labels layer 'labeled_skeletons' at 0x1c29e9fa0>"
      ]
     },
     "execution_count": 15,
     "metadata": {},
     "output_type": "execute_result"
    }
   ],
   "source": [
    "labeled_skeletons = nts.generate_labeled_skeletonization(labels)\n",
    "viewer.add_labels(labeled_skeletons)"
   ]
  },
  {
   "cell_type": "code",
   "execution_count": 19,
   "id": "8e767ddc",
   "metadata": {},
   "outputs": [],
   "source": [
    "from napari_toska._backend_toska_functions import n26_parse_skel_3d"
   ]
  },
  {
   "cell_type": "code",
   "execution_count": null,
   "id": "90f7f8ef",
   "metadata": {},
   "outputs": [],
   "source": [
    "def categorize_skeleton_components(labeled_skeletons:'napari.types.LabelsData'):\n",
    "    \n",
    "    coords, e_pts, b_pts, brnch, brnch_ids, brnch_lengths = n26_parse_skel_3d(labeled_skeletons)\n",
    "    \n",
    "    return"
   ]
  },
  {
   "cell_type": "code",
   "execution_count": 24,
   "id": "7097faa3",
   "metadata": {},
   "outputs": [],
   "source": [
    "def n26_parse_skel_3d(skel, z_dir: int = 0, y_dir: int = 1, x_dir: int = 2):\n",
    "    \n",
    "    '''Parameters:\n",
    "       -----------\n",
    "       \n",
    "       skel:\n",
    "       z_dir:\n",
    "       y_dir:\n",
    "       x_dir:\n",
    "       \n",
    "       Returns:\n",
    "       --------\n",
    "       \n",
    "       coords:\n",
    "       e_pts:\n",
    "       b_pts:\n",
    "       brnch:\n",
    "       brnch_ids:\n",
    "       brnch_lengths:'''\n",
    "    \n",
    "    coords = np.asarray(np.where(skel)).T\n",
    "    e_pts, b_pts = n26_pt_classification(skel, coords, z_dir, y_dir, x_dir)\n",
    "    \n",
    "    brnch = np.copy(skel)\n",
    "    for i in b_pts:\n",
    "        brnch[i[0],i[1],i[2]] = 0\n",
    "        \n",
    "    brnch, brnch_ids = label(brnch, structure = np.ones((3,3,3), dtype = int))\n",
    "    brnch_ids = tuple(np.arange(1, brnch_ids+1))\n",
    "    brnch_lengths = tuple([np.sum(brnch[brnch == i].astype(bool).astype(np.uint16)) for i in brnch_ids])\n",
    "    \n",
    "    return coords, e_pts, b_pts, brnch, brnch_ids, brnch_lengths"
   ]
  },
  {
   "cell_type": "code",
   "execution_count": 21,
   "id": "1bbbc300",
   "metadata": {},
   "outputs": [],
   "source": [
    "label_129 = labeled_skeletons == 129"
   ]
  },
  {
   "cell_type": "code",
   "execution_count": 20,
   "id": "4f8ab929",
   "metadata": {},
   "outputs": [],
   "source": [
    "import pandas as pd"
   ]
  },
  {
   "cell_type": "code",
   "execution_count": null,
   "id": "1ebb0618",
   "metadata": {},
   "outputs": [],
   "source": [
    "def classify_skeleton_coordinates(skeleton):\n",
    "    \n",
    "    coordinates = np.asarray(np.where(skeleton>0)).T\n",
    "    end_points, branching_points = n26_pt_classification(skeleton, coordinates)\n",
    "    \n",
    "    df = pd.DataFrame(coordinates, columns=['z','y','x'])\n",
    "    df['is_endpoint']=False\n",
    "    df.loc[end_points, 'is_endpoint']=True\n",
    "    \n",
    "    return "
   ]
  },
  {
   "cell_type": "code",
   "execution_count": null,
   "id": "1ef638ee",
   "metadata": {},
   "outputs": [],
   "source": [
    "def label_branches(skeleton, branch_points):\n",
    "    \n",
    "    return"
   ]
  }
 ],
 "metadata": {
  "kernelspec": {
   "display_name": "Python 3 (ipykernel)",
   "language": "python",
   "name": "python3"
  },
  "language_info": {
   "codemirror_mode": {
    "name": "ipython",
    "version": 3
   },
   "file_extension": ".py",
   "mimetype": "text/x-python",
   "name": "python",
   "nbconvert_exporter": "python",
   "pygments_lexer": "ipython3",
   "version": "3.9.16"
  }
 },
 "nbformat": 4,
 "nbformat_minor": 5
}
