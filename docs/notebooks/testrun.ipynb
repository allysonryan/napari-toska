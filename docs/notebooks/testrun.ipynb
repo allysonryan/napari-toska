{
 "cells": [
  {
   "cell_type": "code",
   "execution_count": 2,
   "id": "dd4cee94",
   "metadata": {},
   "outputs": [],
   "source": [
    "import napari_toska as nts"
   ]
  },
  {
   "cell_type": "code",
   "execution_count": 1,
   "id": "af1a083d",
   "metadata": {},
   "outputs": [],
   "source": [
    "from skimage.morphology import skeletonize\n",
    "from skimage.data import binary_blobs\n",
    "from skimage.filters import threshold_otsu\n",
    "from scipy.ndimage import binary_fill_holes\n",
    "from skimage.measure import label\n",
    "import numpy as np\n",
    "import napari\n",
    "\n",
    "\n",
    "from napari_toska._backend_toska_functions import parse_skeleton\n",
    "from skimage import io, segmentation"
   ]
  },
  {
   "cell_type": "code",
   "execution_count": 3,
   "id": "5a1bcff1",
   "metadata": {},
   "outputs": [],
   "source": [
    "viewer = napari.Viewer()"
   ]
  },
  {
   "cell_type": "code",
   "execution_count": null,
   "id": "5e7becba",
   "metadata": {},
   "outputs": [
    {
     "data": {
      "text/plain": [
       "<Labels layer 'blobs' at 0x238a0f71e20>"
      ]
     },
     "execution_count": 4,
     "metadata": {},
     "output_type": "execute_result"
    }
   ],
   "source": [
    "labels = label(binary_blobs())\n",
    "viewer.add_labels(labels, name='blobs')"
   ]
  },
  {
   "cell_type": "code",
   "execution_count": null,
   "id": "3bd833e8",
   "metadata": {},
   "outputs": [
    {
     "data": {
      "text/plain": [
       "<Labels layer 'labeled_skeletons' at 0x238a645acd0>"
      ]
     },
     "execution_count": 5,
     "metadata": {},
     "output_type": "execute_result"
    }
   ],
   "source": [
    "labeled_skeletons = nts.generate_labeled_skeletonization(labels)\n",
    "viewer.add_labels(labeled_skeletons)"
   ]
  },
  {
   "attachments": {},
   "cell_type": "markdown",
   "id": "8e767ddc",
   "metadata": {},
   "source": [
    "## Parse skeletons"
   ]
  },
  {
   "cell_type": "code",
   "execution_count": 8,
   "id": "0c83e197",
   "metadata": {},
   "outputs": [],
   "source": [
    "nts.parse_skeleton(labeled_skeletons)\n",
    "#viewer.add_labels(skeleton_labels)"
   ]
  },
  {
   "cell_type": "code",
   "execution_count": 10,
   "id": "1bbbc300",
   "metadata": {},
   "outputs": [
    {
     "data": {
      "text/plain": [
       "<Labels layer 'brnch' at 0x220a6281af0>"
      ]
     },
     "execution_count": 10,
     "metadata": {},
     "output_type": "execute_result"
    }
   ],
   "source": [
    "viewer.add_labels(brnch)"
   ]
  },
  {
   "cell_type": "code",
   "execution_count": 31,
   "id": "a883ce1b",
   "metadata": {},
   "outputs": [
    {
     "data": {
      "text/plain": [
       "<Labels layer 'skeleton_labels [2]' at 0x238a9b843d0>"
      ]
     },
     "execution_count": 31,
     "metadata": {},
     "output_type": "execute_result"
    }
   ],
   "source": [
    "skeleton_labels = np.zeros_like(labeled_skeletons)\n",
    "skeleton_labels[brnch > 0] = 2\n",
    "\n",
    "for pt in b_pts:\n",
    "    skeleton_labels[pt[0], pt[1]] = 3\n",
    "\n",
    "for pt in e_pts:\n",
    "    skeleton_labels[pt[0], pt[1]] = 1\n",
    "\n",
    "\n",
    "\n",
    "viewer.add_labels(skeleton_labels)"
   ]
  },
  {
   "cell_type": "code",
   "execution_count": 1,
   "id": "77531d71",
   "metadata": {},
   "outputs": [
    {
     "ename": "NameError",
     "evalue": "name 'skeleton_labels' is not defined",
     "output_type": "error",
     "traceback": [
      "\u001b[1;31m---------------------------------------------------------------------------\u001b[0m",
      "\u001b[1;31mNameError\u001b[0m                                 Traceback (most recent call last)",
      "Cell \u001b[1;32mIn[1], line 1\u001b[0m\n\u001b[1;32m----> 1\u001b[0m skeleton_labels\u001b[39m.\u001b[39mdim\n",
      "\u001b[1;31mNameError\u001b[0m: name 'skeleton_labels' is not defined"
     ]
    }
   ],
   "source": [
    "skeleton_labels.dim"
   ]
  },
  {
   "cell_type": "code",
   "execution_count": null,
   "id": "642ea956",
   "metadata": {},
   "outputs": [],
   "source": [
    "skeleton_labels[np.asarray(e_pts)] = 1\n",
    "\n",
    "skeleton_labels[b_pts] = 3"
   ]
  },
  {
   "cell_type": "code",
   "execution_count": 17,
   "id": "8e4a9f77",
   "metadata": {},
   "outputs": [
    {
     "data": {
      "text/plain": [
       "(9, 2, 512)"
      ]
     },
     "execution_count": 17,
     "metadata": {},
     "output_type": "execute_result"
    }
   ],
   "source": [
    "skeleton_labels[e_pts].shape"
   ]
  },
  {
   "cell_type": "code",
   "execution_count": 27,
   "id": "bf7299af",
   "metadata": {},
   "outputs": [
    {
     "data": {
      "text/plain": [
       "<Labels layer 'skeleton_labels' at 0x238a6480610>"
      ]
     },
     "execution_count": 27,
     "metadata": {},
     "output_type": "execute_result"
    }
   ],
   "source": []
  },
  {
   "cell_type": "code",
   "execution_count": 22,
   "id": "4f8ab929",
   "metadata": {},
   "outputs": [
    {
     "data": {
      "text/plain": [
       "(293, 21)"
      ]
     },
     "execution_count": 22,
     "metadata": {},
     "output_type": "execute_result"
    }
   ],
   "source": [
    "e_pts[2]"
   ]
  },
  {
   "cell_type": "code",
   "execution_count": null,
   "id": "1ebb0618",
   "metadata": {},
   "outputs": [],
   "source": [
    "def classify_skeleton_coordinates(skeleton):\n",
    "    \n",
    "    coordinates = np.asarray(np.where(skeleton>0)).T\n",
    "    end_points, branching_points = n26_pt_classification(skeleton, coordinates)\n",
    "    \n",
    "    df = pd.DataFrame(coordinates, columns=['z','y','x'])\n",
    "    df['is_endpoint']=False\n",
    "    df.loc[end_points, 'is_endpoint']=True\n",
    "    \n",
    "    return "
   ]
  },
  {
   "cell_type": "code",
   "execution_count": null,
   "id": "1ef638ee",
   "metadata": {},
   "outputs": [],
   "source": [
    "def label_branches(skeleton, branch_points):\n",
    "    \n",
    "    return"
   ]
  }
 ],
 "metadata": {
  "kernelspec": {
   "display_name": "Python 3 (ipykernel)",
   "language": "python",
   "name": "python3"
  },
  "language_info": {
   "codemirror_mode": {
    "name": "ipython",
    "version": 3
   },
   "file_extension": ".py",
   "mimetype": "text/x-python",
   "name": "python",
   "nbconvert_exporter": "python",
   "pygments_lexer": "ipython3",
   "version": "3.9.16"
  }
 },
 "nbformat": 4,
 "nbformat_minor": 5
}
