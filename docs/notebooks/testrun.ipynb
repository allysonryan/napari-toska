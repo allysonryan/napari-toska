{
 "cells": [
  {
   "cell_type": "code",
   "execution_count": 1,
   "id": "dd4cee94",
   "metadata": {},
   "outputs": [],
   "source": [
    "import napari_toska as nts"
   ]
  },
  {
   "cell_type": "code",
   "execution_count": 2,
   "id": "af1a083d",
   "metadata": {},
   "outputs": [],
   "source": [
    "from skimage.morphology import skeletonize\n",
    "from skimage.data import binary_blobs\n",
    "from skimage.filters import threshold_otsu\n",
    "from scipy.ndimage import binary_fill_holes\n",
    "from skimage.measure import label\n",
    "import numpy as np\n",
    "import napari\n",
    "\n",
    "from skimage import io, segmentation"
   ]
  },
  {
   "cell_type": "code",
   "execution_count": 3,
   "id": "5e7becba",
   "metadata": {},
   "outputs": [],
   "source": [
    "labels = label(binary_blobs(seed=0))"
   ]
  },
  {
   "cell_type": "code",
   "execution_count": 4,
   "id": "3bd833e8",
   "metadata": {},
   "outputs": [
    {
     "data": {
      "text/plain": [
       "15"
      ]
     },
     "execution_count": 4,
     "metadata": {},
     "output_type": "execute_result"
    }
   ],
   "source": [
    "labeled_skeletons = nts.generate_labeled_skeletonization(labels)\n",
    "labeled_skeletons.max()"
   ]
  },
  {
   "attachments": {},
   "cell_type": "markdown",
   "id": "8e767ddc",
   "metadata": {},
   "source": [
    "## Parse skeletons"
   ]
  },
  {
   "cell_type": "code",
   "execution_count": 5,
   "id": "0c83e197",
   "metadata": {},
   "outputs": [],
   "source": [
    "parsed_skeletons_single = nts.parse_single_skeleton(labeled_skeletons, label=2, neighborhood='n8')\n",
    "parsed_skeletons_all = nts.parse_all_skeletons(labeled_skeletons, neighborhood='n8')"
   ]
  },
  {
   "cell_type": "code",
   "execution_count": 6,
   "id": "1bbbc300",
   "metadata": {},
   "outputs": [],
   "source": [
    "viewer = napari.Viewer()"
   ]
  },
  {
   "cell_type": "code",
   "execution_count": 7,
   "id": "517b28bb",
   "metadata": {},
   "outputs": [
    {
     "data": {
      "text/plain": [
       "<Labels layer 'labeled_skeletons' at 0x1f7ac763d30>"
      ]
     },
     "execution_count": 7,
     "metadata": {},
     "output_type": "execute_result"
    }
   ],
   "source": [
    "viewer.add_labels(labels, name='labels')\n",
    "viewer.add_labels(parsed_skeletons_all)\n",
    "viewer.add_labels(parsed_skeletons_single)\n",
    "viewer.add_labels(labeled_skeletons)"
   ]
  },
  {
   "cell_type": "code",
   "execution_count": 8,
   "id": "a5fd3fcd",
   "metadata": {},
   "outputs": [],
   "source": [
    "adjacency_matrix = nts.create_adjacency_matrix(parsed_skeletons_single, neighborhood='n8')\n",
    "graph = nts.convert_adjacency_matrix_to_graph(adjacency_matrix)"
   ]
  },
  {
   "cell_type": "code",
   "execution_count": 10,
   "id": "cd6a78da",
   "metadata": {},
   "outputs": [
    {
     "data": {
      "text/plain": [
       "<Labels layer 'labelled_branches' at 0x1f7bd02afd0>"
      ]
     },
     "execution_count": 10,
     "metadata": {},
     "output_type": "execute_result"
    }
   ],
   "source": [
    "labelled_branches = nts.label_branches(parsed_skeletons_all, labeled_skeletons, neighborhood='n8')\n",
    "viewer.add_labels(labelled_branches)"
   ]
  },
  {
   "cell_type": "code",
   "execution_count": null,
   "id": "c500c11e",
   "metadata": {},
   "outputs": [],
   "source": []
  }
 ],
 "metadata": {
  "kernelspec": {
   "display_name": "Python 3 (ipykernel)",
   "language": "python",
   "name": "python3"
  },
  "language_info": {
   "codemirror_mode": {
    "name": "ipython",
    "version": 3
   },
   "file_extension": ".py",
   "mimetype": "text/x-python",
   "name": "python",
   "nbconvert_exporter": "python",
   "pygments_lexer": "ipython3",
   "version": "3.9.16"
  }
 },
 "nbformat": 4,
 "nbformat_minor": 5
}
