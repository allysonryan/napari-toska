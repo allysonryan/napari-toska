{
 "cells": [
  {
   "cell_type": "code",
   "execution_count": 1,
   "id": "dd4cee94",
   "metadata": {},
   "outputs": [],
   "source": [
    "import napari_toska as nts"
   ]
  },
  {
   "cell_type": "code",
   "execution_count": 2,
   "id": "af1a083d",
   "metadata": {},
   "outputs": [],
   "source": [
    "from skimage.morphology import skeletonize\n",
    "from skimage.data import binary_blobs\n",
    "from skimage.measure import label\n",
    "import numpy as np\n",
    "import napari"
   ]
  },
  {
   "cell_type": "code",
   "execution_count": 3,
   "id": "5e7becba",
   "metadata": {},
   "outputs": [],
   "source": [
    "labels = label(binary_blobs(seed=0))"
   ]
  },
  {
   "cell_type": "code",
   "execution_count": 4,
   "id": "3bd833e8",
   "metadata": {},
   "outputs": [
    {
     "data": {
      "text/plain": [
       "15"
      ]
     },
     "execution_count": 4,
     "metadata": {},
     "output_type": "execute_result"
    }
   ],
   "source": [
    "labeled_skeletons = nts.generate_labeled_skeletonization(labels)\n",
    "labeled_skeletons.max()"
   ]
  },
  {
   "attachments": {},
   "cell_type": "markdown",
   "id": "8e767ddc",
   "metadata": {},
   "source": [
    "## Parse skeletons"
   ]
  },
  {
   "cell_type": "code",
   "execution_count": 5,
   "id": "0c83e197",
   "metadata": {},
   "outputs": [],
   "source": [
    "parsed_skeletons_single = nts.parse_single_skeleton(labeled_skeletons, label=2, neighborhood='n8')\n",
    "parsed_skeletons_all = nts.parse_all_skeletons(labeled_skeletons, neighborhood='n8')"
   ]
  },
  {
   "cell_type": "code",
   "execution_count": 6,
   "id": "1bbbc300",
   "metadata": {},
   "outputs": [],
   "source": [
    "viewer = napari.Viewer()"
   ]
  },
  {
   "cell_type": "code",
   "execution_count": 7,
   "id": "517b28bb",
   "metadata": {},
   "outputs": [
    {
     "data": {
      "text/plain": [
       "<Labels layer 'labeled_skeletons' at 0x16888741220>"
      ]
     },
     "execution_count": 7,
     "metadata": {},
     "output_type": "execute_result"
    }
   ],
   "source": [
    "viewer.add_labels(labels, name='labels')\n",
    "viewer.add_labels(parsed_skeletons_all)\n",
    "viewer.add_labels(parsed_skeletons_single)\n",
    "viewer.add_labels(labeled_skeletons)"
   ]
  },
  {
   "cell_type": "code",
   "execution_count": 8,
   "id": "a5fd3fcd",
   "metadata": {},
   "outputs": [],
   "source": [
    "adjacency_matrix = nts.create_adjacency_matrix(parsed_skeletons_single, neighborhood='n8')\n",
    "graph = nts.convert_adjacency_matrix_to_graph(adjacency_matrix)"
   ]
  },
  {
   "cell_type": "code",
   "execution_count": 9,
   "id": "cd6a78da",
   "metadata": {},
   "outputs": [
    {
     "data": {
      "text/plain": [
       "<Labels layer 'labeled_branches' at 0x1688a624eb0>"
      ]
     },
     "execution_count": 9,
     "metadata": {},
     "output_type": "execute_result"
    }
   ],
   "source": [
    "labeled_branches = nts.label_branches(parsed_skeletons_all, labeled_skeletons, neighborhood='n8')\n",
    "viewer.add_labels(labeled_branches)"
   ]
  },
  {
   "cell_type": "code",
   "execution_count": 10,
   "id": "58488d7e",
   "metadata": {},
   "outputs": [
    {
     "name": "stderr",
     "output_type": "stream",
     "text": [
      "c:\\Users\\johamuel\\AppData\\Local\\mambaforge\\envs\\devbio-napari\\lib\\site-packages\\numpy\\core\\fromnumeric.py:43: VisibleDeprecationWarning: Creating an ndarray from ragged nested sequences (which is a list-or-tuple of lists-or-tuples-or ndarrays with different lengths or shapes) is deprecated. If you meant to do this, you must specify 'dtype=object' when creating the ndarray.\n",
      "  result = getattr(asarray(obj), method)(*args, **kwds)\n"
     ]
    },
    {
     "data": {
      "text/plain": [
       "<Labels layer 'spine' at 0x1688a624ac0>"
      ]
     },
     "execution_count": 10,
     "metadata": {},
     "output_type": "execute_result"
    }
   ],
   "source": [
    "spine = nts.create_spine_image(adjacency_matrix=adjacency_matrix,\n",
    "                               labeled_branches=labeled_branches)\n",
    "viewer.add_labels(spine)"
   ]
  },
  {
   "cell_type": "markdown",
   "id": "31ac2dcf",
   "metadata": {},
   "source": [
    "## Measurements"
   ]
  },
  {
   "cell_type": "code",
   "execution_count": 13,
   "id": "c1bc8649",
   "metadata": {},
   "outputs": [
    {
     "name": "stderr",
     "output_type": "stream",
     "text": [
      "c:\\Users\\johamuel\\AppData\\Local\\mambaforge\\envs\\devbio-napari\\lib\\site-packages\\numpy\\core\\fromnumeric.py:43: VisibleDeprecationWarning: Creating an ndarray from ragged nested sequences (which is a list-or-tuple of lists-or-tuples-or ndarrays with different lengths or shapes) is deprecated. If you meant to do this, you must specify 'dtype=object' when creating the ndarray.\n",
      "  result = getattr(asarray(obj), method)(*args, **kwds)\n"
     ]
    }
   ],
   "source": [
    "features = nts.analyze_skeletons(\n",
    "    labeled_skeletons=labeled_skeletons,\n",
    "    parsed_skeletons=parsed_skeletons_all)"
   ]
  },
  {
   "cell_type": "code",
   "execution_count": 14,
   "id": "9ebab4ed",
   "metadata": {},
   "outputs": [
    {
     "name": "stdout",
     "output_type": "stream",
     "text": [
      "Napari status bar display of label properties disabled because https://github.com/napari/napari/issues/5417 and https://github.com/napari/napari/issues/4342\n"
     ]
    }
   ],
   "source": []
  },
  {
   "cell_type": "code",
   "execution_count": 16,
   "id": "b919ef9b",
   "metadata": {},
   "outputs": [
    {
     "name": "stdout",
     "output_type": "stream",
     "text": [
      "Napari status bar display of label properties disabled because https://github.com/napari/napari/issues/5417 and https://github.com/napari/napari/issues/4342\n",
      "Selected column n_endpoints\n",
      "Selected column n_branch_points\n",
      "Selected column n_nodes\n",
      "Selected column n_branches\n",
      "Selected column spine_length\n"
     ]
    }
   ],
   "source": [
    "features = features.rename(columns={'skeleton_id': 'label'})\n",
    "viewer.layers['labeled_skeletons'].features = features"
   ]
  },
  {
   "cell_type": "code",
   "execution_count": 19,
   "id": "40d7d854",
   "metadata": {},
   "outputs": [
    {
     "ename": "KeyError",
     "evalue": "'Colormap \"nipy\" not found in either vispy or matplotlib. Recognized colormaps are: \"GrBu\", \"GrBu_d\", \"PiYG\", \"PuGr\", \"RdBu\", \"RdYeBuCy\", \"autumn\", \"blues\", \"cool\", \"coolwarm\", \"cubehelix\", \"diverging\", \"fire\", \"gist_earth\", \"gray\", \"gray_r\", \"grays\", \"greens\", \"hot\", \"hsl\", \"hsv\", \"husl\", \"ice\", \"inferno\", \"light_blues\", \"magma\", \"orange\", \"plasma\", \"reds\", \"single_hue\", \"spring\", \"summer\", \"turbo\", \"twilight\", \"twilight_shifted\", \"viridis\", \"winter\"'",
     "output_type": "error",
     "traceback": [
      "\u001b[1;31m---------------------------------------------------------------------------\u001b[0m",
      "\u001b[1;31mAttributeError\u001b[0m                            Traceback (most recent call last)",
      "File \u001b[1;32mc:\\Users\\johamuel\\AppData\\Local\\mambaforge\\envs\\devbio-napari\\lib\\site-packages\\napari\\utils\\colormaps\\colormap_utils.py:433\u001b[0m, in \u001b[0;36mvispy_or_mpl_colormap\u001b[1;34m(name)\u001b[0m\n\u001b[0;32m    432\u001b[0m \u001b[39mtry\u001b[39;00m:\n\u001b[1;32m--> 433\u001b[0m     mpl_cmap \u001b[39m=\u001b[39m \u001b[39mgetattr\u001b[39;49m(cm, name)\n\u001b[0;32m    434\u001b[0m     \u001b[39mif\u001b[39;00m name \u001b[39min\u001b[39;00m _MATPLOTLIB_COLORMAP_NAMES:\n",
      "\u001b[1;31mAttributeError\u001b[0m: module 'napari.utils.colormaps.vendored.cm' has no attribute 'nipy'",
      "\nDuring handling of the above exception, another exception occurred:\n",
      "\u001b[1;31mKeyError\u001b[0m                                  Traceback (most recent call last)",
      "Cell \u001b[1;32mIn[19], line 1\u001b[0m\n\u001b[1;32m----> 1\u001b[0m viewer\u001b[39m.\u001b[39mlayers[\u001b[39m'\u001b[39m\u001b[39mn_endpoints in labeled_skeletons\u001b[39m\u001b[39m'\u001b[39m]\u001b[39m.\u001b[39mcolormap \u001b[39m=\u001b[39m \u001b[39m'\u001b[39m\u001b[39mnipy\u001b[39m\u001b[39m'\u001b[39m\n",
      "File \u001b[1;32mc:\\Users\\johamuel\\AppData\\Local\\mambaforge\\envs\\devbio-napari\\lib\\site-packages\\napari\\layers\\intensity_mixin.py:73\u001b[0m, in \u001b[0;36mIntensityVisualizationMixin.colormap\u001b[1;34m(self, colormap)\u001b[0m\n\u001b[0;32m     71\u001b[0m \u001b[39m@colormap\u001b[39m\u001b[39m.\u001b[39msetter\n\u001b[0;32m     72\u001b[0m \u001b[39mdef\u001b[39;00m \u001b[39mcolormap\u001b[39m(\u001b[39mself\u001b[39m, colormap):\n\u001b[1;32m---> 73\u001b[0m     \u001b[39mself\u001b[39;49m\u001b[39m.\u001b[39;49m_set_colormap(colormap)\n",
      "File \u001b[1;32mc:\\Users\\johamuel\\AppData\\Local\\mambaforge\\envs\\devbio-napari\\lib\\site-packages\\napari\\layers\\intensity_mixin.py:67\u001b[0m, in \u001b[0;36mIntensityVisualizationMixin._set_colormap\u001b[1;34m(self, colormap)\u001b[0m\n\u001b[0;32m     66\u001b[0m \u001b[39mdef\u001b[39;00m \u001b[39m_set_colormap\u001b[39m(\u001b[39mself\u001b[39m, colormap):\n\u001b[1;32m---> 67\u001b[0m     \u001b[39mself\u001b[39m\u001b[39m.\u001b[39m_colormap \u001b[39m=\u001b[39m ensure_colormap(colormap)\n\u001b[0;32m     68\u001b[0m     \u001b[39mself\u001b[39m\u001b[39m.\u001b[39m_update_thumbnail()\n\u001b[0;32m     69\u001b[0m     \u001b[39mself\u001b[39m\u001b[39m.\u001b[39mevents\u001b[39m.\u001b[39mcolormap()\n",
      "File \u001b[1;32mc:\\Users\\johamuel\\AppData\\Local\\mambaforge\\envs\\devbio-napari\\lib\\site-packages\\napari\\utils\\colormaps\\colormap_utils.py:563\u001b[0m, in \u001b[0;36mensure_colormap\u001b[1;34m(colormap)\u001b[0m\n\u001b[0;32m    561\u001b[0m     name \u001b[39m=\u001b[39m colormap\n\u001b[0;32m    562\u001b[0m     \u001b[39mif\u001b[39;00m name \u001b[39mnot\u001b[39;00m \u001b[39min\u001b[39;00m AVAILABLE_COLORMAPS:\n\u001b[1;32m--> 563\u001b[0m         cmap \u001b[39m=\u001b[39m vispy_or_mpl_colormap(\n\u001b[0;32m    564\u001b[0m             name\n\u001b[0;32m    565\u001b[0m         )  \u001b[39m# raises KeyError if not found\u001b[39;00m\n\u001b[0;32m    566\u001b[0m         AVAILABLE_COLORMAPS[name] \u001b[39m=\u001b[39m cmap\n\u001b[0;32m    567\u001b[0m \u001b[39melif\u001b[39;00m \u001b[39misinstance\u001b[39m(colormap, Colormap):\n",
      "File \u001b[1;32mc:\\Users\\johamuel\\AppData\\Local\\mambaforge\\envs\\devbio-napari\\lib\\site-packages\\napari\\utils\\colormaps\\colormap_utils.py:455\u001b[0m, in \u001b[0;36mvispy_or_mpl_colormap\u001b[1;34m(name)\u001b[0m\n\u001b[0;32m    451\u001b[0m     \u001b[39melse\u001b[39;00m:\n\u001b[0;32m    452\u001b[0m         colormaps \u001b[39m=\u001b[39m \u001b[39mset\u001b[39m(_VISPY_COLORMAPS_ORIGINAL)\u001b[39m.\u001b[39munion(\n\u001b[0;32m    453\u001b[0m             \u001b[39mset\u001b[39m(_MATPLOTLIB_COLORMAP_NAMES)\n\u001b[0;32m    454\u001b[0m         )\n\u001b[1;32m--> 455\u001b[0m         \u001b[39mraise\u001b[39;00m \u001b[39mKeyError\u001b[39;00m(\n\u001b[0;32m    456\u001b[0m             trans\u001b[39m.\u001b[39m_(\n\u001b[0;32m    457\u001b[0m                 \u001b[39m'\u001b[39m\u001b[39mColormap \u001b[39m\u001b[39m\"\u001b[39m\u001b[39m{name}\u001b[39;00m\u001b[39m\"\u001b[39m\u001b[39m not found in either vispy or matplotlib. Recognized colormaps are: \u001b[39m\u001b[39m{colormaps}\u001b[39;00m\u001b[39m'\u001b[39m,\n\u001b[0;32m    458\u001b[0m                 deferred\u001b[39m=\u001b[39m\u001b[39mTrue\u001b[39;00m,\n\u001b[0;32m    459\u001b[0m                 name\u001b[39m=\u001b[39mname,\n\u001b[0;32m    460\u001b[0m                 colormaps\u001b[39m=\u001b[39m\u001b[39m\"\u001b[39m\u001b[39m, \u001b[39m\u001b[39m\"\u001b[39m\u001b[39m.\u001b[39mjoin(\n\u001b[0;32m    461\u001b[0m                     \u001b[39msorted\u001b[39m(\u001b[39mf\u001b[39m\u001b[39m'\u001b[39m\u001b[39m\"\u001b[39m\u001b[39m{\u001b[39;00mcm\u001b[39m}\u001b[39;00m\u001b[39m\"\u001b[39m\u001b[39m'\u001b[39m \u001b[39mfor\u001b[39;00m cm \u001b[39min\u001b[39;00m colormaps)\n\u001b[0;32m    462\u001b[0m                 ),\n\u001b[0;32m    463\u001b[0m             )\n\u001b[0;32m    464\u001b[0m         )\n\u001b[0;32m    465\u001b[0m mpl_colors \u001b[39m=\u001b[39m mpl_cmap(np\u001b[39m.\u001b[39mlinspace(\u001b[39m0\u001b[39m, \u001b[39m1\u001b[39m, \u001b[39m256\u001b[39m))\n\u001b[0;32m    466\u001b[0m colormap \u001b[39m=\u001b[39m Colormap(\n\u001b[0;32m    467\u001b[0m     name\u001b[39m=\u001b[39mname, display_name\u001b[39m=\u001b[39mdisplay_name, colors\u001b[39m=\u001b[39mmpl_colors\n\u001b[0;32m    468\u001b[0m )\n",
      "\u001b[1;31mKeyError\u001b[0m: 'Colormap \"nipy\" not found in either vispy or matplotlib. Recognized colormaps are: \"GrBu\", \"GrBu_d\", \"PiYG\", \"PuGr\", \"RdBu\", \"RdYeBuCy\", \"autumn\", \"blues\", \"cool\", \"coolwarm\", \"cubehelix\", \"diverging\", \"fire\", \"gist_earth\", \"gray\", \"gray_r\", \"grays\", \"greens\", \"hot\", \"hsl\", \"hsv\", \"husl\", \"ice\", \"inferno\", \"light_blues\", \"magma\", \"orange\", \"plasma\", \"reds\", \"single_hue\", \"spring\", \"summer\", \"turbo\", \"twilight\", \"twilight_shifted\", \"viridis\", \"winter\"'"
     ]
    }
   ],
   "source": [
    "viewer.layers['n_endpoints in labeled_skeletons'].colormap = 'nipy_spectral'"
   ]
  },
  {
   "cell_type": "code",
   "execution_count": null,
   "id": "140e220d",
   "metadata": {},
   "outputs": [],
   "source": []
  }
 ],
 "metadata": {
  "kernelspec": {
   "display_name": "Python 3 (ipykernel)",
   "language": "python",
   "name": "python3"
  },
  "language_info": {
   "codemirror_mode": {
    "name": "ipython",
    "version": 3
   },
   "file_extension": ".py",
   "mimetype": "text/x-python",
   "name": "python",
   "nbconvert_exporter": "python",
   "pygments_lexer": "ipython3",
   "version": "3.9.16"
  }
 },
 "nbformat": 4,
 "nbformat_minor": 5
}
