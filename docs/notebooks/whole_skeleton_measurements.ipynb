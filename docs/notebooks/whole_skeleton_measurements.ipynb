{
 "cells": [
  {
   "cell_type": "code",
   "execution_count": 1,
   "id": "dd4cee94",
   "metadata": {},
   "outputs": [],
   "source": [
    "import napari_toska as nts"
   ]
  },
  {
   "cell_type": "code",
   "execution_count": 2,
   "id": "af1a083d",
   "metadata": {},
   "outputs": [],
   "source": [
    "from skimage.morphology import skeletonize\n",
    "from skimage.data import binary_blobs\n",
    "from skimage.measure import label\n",
    "import numpy as np\n",
    "import napari"
   ]
  },
  {
   "cell_type": "code",
   "execution_count": 3,
   "id": "5e7becba",
   "metadata": {},
   "outputs": [],
   "source": [
    "labels = label(binary_blobs(seed=0))"
   ]
  },
  {
   "cell_type": "code",
   "execution_count": 4,
   "id": "3bd833e8",
   "metadata": {},
   "outputs": [
    {
     "data": {
      "text/plain": [
       "15"
      ]
     },
     "execution_count": 4,
     "metadata": {},
     "output_type": "execute_result"
    }
   ],
   "source": [
    "labeled_skeletons = nts.generate_labeled_skeletonization(labels)\n",
    "labeled_skeletons.max()"
   ]
  },
  {
   "attachments": {},
   "cell_type": "markdown",
   "id": "8e767ddc",
   "metadata": {},
   "source": [
    "## Parse skeletons"
   ]
  },
  {
   "cell_type": "code",
   "execution_count": 5,
   "id": "0c83e197",
   "metadata": {},
   "outputs": [],
   "source": [
    "parsed_skeletons_single = nts.parse_single_skeleton(labeled_skeletons, label=2, neighborhood='n8')\n",
    "parsed_skeletons_all = nts.parse_all_skeletons(labeled_skeletons, neighborhood='n8')"
   ]
  },
  {
   "cell_type": "code",
   "execution_count": 6,
   "id": "1bbbc300",
   "metadata": {},
   "outputs": [],
   "source": [
    "viewer = napari.Viewer()"
   ]
  },
  {
   "cell_type": "code",
   "execution_count": 7,
   "id": "517b28bb",
   "metadata": {},
   "outputs": [
    {
     "data": {
      "text/plain": [
       "<Labels layer 'labeled_skeletons' at 0x28ba29a2040>"
      ]
     },
     "execution_count": 7,
     "metadata": {},
     "output_type": "execute_result"
    }
   ],
   "source": [
    "viewer.add_labels(labels, name='labels')\n",
    "viewer.add_labels(parsed_skeletons_all)\n",
    "viewer.add_labels(parsed_skeletons_single)\n",
    "viewer.add_labels(labeled_skeletons)"
   ]
  },
  {
   "cell_type": "code",
   "execution_count": 8,
   "id": "a5fd3fcd",
   "metadata": {},
   "outputs": [],
   "source": [
    "adjacency_matrix = nts.create_adjacency_matrix(parsed_skeletons_single, neighborhood='n8')\n",
    "graph = nts.convert_adjacency_matrix_to_graph(adjacency_matrix)"
   ]
  },
  {
   "cell_type": "code",
   "execution_count": 9,
   "id": "cd6a78da",
   "metadata": {},
   "outputs": [
    {
     "data": {
      "text/plain": [
       "<Labels layer 'labeled_branches' at 0x28ba41e9d90>"
      ]
     },
     "execution_count": 9,
     "metadata": {},
     "output_type": "execute_result"
    }
   ],
   "source": [
    "labeled_branches = nts.label_branches(parsed_skeletons_single, labeled_skeletons, neighborhood='n8')\n",
    "viewer.add_labels(labeled_branches)"
   ]
  },
  {
   "cell_type": "code",
   "execution_count": 10,
   "metadata": {},
   "outputs": [
    {
     "data": {
      "text/plain": [
       "<Labels layer 'spine' at 0x28b9ca23df0>"
      ]
     },
     "execution_count": 10,
     "metadata": {},
     "output_type": "execute_result"
    }
   ],
   "source": [
    "spine = nts.create_spine_image(adjacency_matrix=adjacency_matrix,\n",
    "                               labeled_branches=labeled_branches)\n",
    "viewer.add_labels(spine)"
   ]
  },
  {
   "cell_type": "markdown",
   "id": "31ac2dcf",
   "metadata": {},
   "source": [
    "## Measurements"
   ]
  },
  {
   "cell_type": "code",
   "execution_count": 11,
   "id": "c1bc8649",
   "metadata": {},
   "outputs": [
    {
     "data": {
      "text/html": [
       "<div>\n",
       "<style scoped>\n",
       "    .dataframe tbody tr th:only-of-type {\n",
       "        vertical-align: middle;\n",
       "    }\n",
       "\n",
       "    .dataframe tbody tr th {\n",
       "        vertical-align: top;\n",
       "    }\n",
       "\n",
       "    .dataframe thead th {\n",
       "        text-align: right;\n",
       "    }\n",
       "</style>\n",
       "<table border=\"1\" class=\"dataframe\">\n",
       "  <thead>\n",
       "    <tr style=\"text-align: right;\">\n",
       "      <th></th>\n",
       "      <th>skeleton_id</th>\n",
       "      <th>n_endpoints</th>\n",
       "      <th>n_branch_points</th>\n",
       "      <th>n_nodes</th>\n",
       "      <th>n_branches</th>\n",
       "      <th>spine_length</th>\n",
       "      <th>n_cycle_basis</th>\n",
       "      <th>n_possible_undirected_cycles</th>\n",
       "      <th>label</th>\n",
       "    </tr>\n",
       "  </thead>\n",
       "  <tbody>\n",
       "    <tr>\n",
       "      <th>0</th>\n",
       "      <td>1</td>\n",
       "      <td>2</td>\n",
       "      <td>0</td>\n",
       "      <td>2</td>\n",
       "      <td>1</td>\n",
       "      <td>1.0</td>\n",
       "      <td>0</td>\n",
       "      <td>0</td>\n",
       "      <td>1</td>\n",
       "    </tr>\n",
       "    <tr>\n",
       "      <th>0</th>\n",
       "      <td>2</td>\n",
       "      <td>11</td>\n",
       "      <td>13</td>\n",
       "      <td>24</td>\n",
       "      <td>25</td>\n",
       "      <td>13.0</td>\n",
       "      <td>2</td>\n",
       "      <td>3</td>\n",
       "      <td>2</td>\n",
       "    </tr>\n",
       "    <tr>\n",
       "      <th>0</th>\n",
       "      <td>3</td>\n",
       "      <td>2</td>\n",
       "      <td>0</td>\n",
       "      <td>2</td>\n",
       "      <td>1</td>\n",
       "      <td>1.0</td>\n",
       "      <td>0</td>\n",
       "      <td>0</td>\n",
       "      <td>3</td>\n",
       "    </tr>\n",
       "    <tr>\n",
       "      <th>0</th>\n",
       "      <td>4</td>\n",
       "      <td>2</td>\n",
       "      <td>0</td>\n",
       "      <td>2</td>\n",
       "      <td>1</td>\n",
       "      <td>1.0</td>\n",
       "      <td>0</td>\n",
       "      <td>0</td>\n",
       "      <td>4</td>\n",
       "    </tr>\n",
       "    <tr>\n",
       "      <th>0</th>\n",
       "      <td>5</td>\n",
       "      <td>2</td>\n",
       "      <td>0</td>\n",
       "      <td>2</td>\n",
       "      <td>1</td>\n",
       "      <td>1.0</td>\n",
       "      <td>0</td>\n",
       "      <td>0</td>\n",
       "      <td>5</td>\n",
       "    </tr>\n",
       "    <tr>\n",
       "      <th>0</th>\n",
       "      <td>6</td>\n",
       "      <td>2</td>\n",
       "      <td>0</td>\n",
       "      <td>2</td>\n",
       "      <td>1</td>\n",
       "      <td>1.0</td>\n",
       "      <td>0</td>\n",
       "      <td>0</td>\n",
       "      <td>6</td>\n",
       "    </tr>\n",
       "    <tr>\n",
       "      <th>0</th>\n",
       "      <td>7</td>\n",
       "      <td>6</td>\n",
       "      <td>4</td>\n",
       "      <td>10</td>\n",
       "      <td>9</td>\n",
       "      <td>5.0</td>\n",
       "      <td>0</td>\n",
       "      <td>0</td>\n",
       "      <td>7</td>\n",
       "    </tr>\n",
       "    <tr>\n",
       "      <th>0</th>\n",
       "      <td>8</td>\n",
       "      <td>2</td>\n",
       "      <td>0</td>\n",
       "      <td>2</td>\n",
       "      <td>1</td>\n",
       "      <td>1.0</td>\n",
       "      <td>0</td>\n",
       "      <td>0</td>\n",
       "      <td>8</td>\n",
       "    </tr>\n",
       "    <tr>\n",
       "      <th>0</th>\n",
       "      <td>9</td>\n",
       "      <td>2</td>\n",
       "      <td>0</td>\n",
       "      <td>2</td>\n",
       "      <td>1</td>\n",
       "      <td>1.0</td>\n",
       "      <td>0</td>\n",
       "      <td>0</td>\n",
       "      <td>9</td>\n",
       "    </tr>\n",
       "    <tr>\n",
       "      <th>0</th>\n",
       "      <td>10</td>\n",
       "      <td>0</td>\n",
       "      <td>0</td>\n",
       "      <td>0</td>\n",
       "      <td>0</td>\n",
       "      <td>NaN</td>\n",
       "      <td>0</td>\n",
       "      <td>0</td>\n",
       "      <td>10</td>\n",
       "    </tr>\n",
       "    <tr>\n",
       "      <th>0</th>\n",
       "      <td>11</td>\n",
       "      <td>2</td>\n",
       "      <td>0</td>\n",
       "      <td>2</td>\n",
       "      <td>1</td>\n",
       "      <td>1.0</td>\n",
       "      <td>0</td>\n",
       "      <td>0</td>\n",
       "      <td>11</td>\n",
       "    </tr>\n",
       "    <tr>\n",
       "      <th>0</th>\n",
       "      <td>12</td>\n",
       "      <td>3</td>\n",
       "      <td>1</td>\n",
       "      <td>4</td>\n",
       "      <td>3</td>\n",
       "      <td>2.0</td>\n",
       "      <td>0</td>\n",
       "      <td>0</td>\n",
       "      <td>12</td>\n",
       "    </tr>\n",
       "    <tr>\n",
       "      <th>0</th>\n",
       "      <td>13</td>\n",
       "      <td>2</td>\n",
       "      <td>0</td>\n",
       "      <td>2</td>\n",
       "      <td>1</td>\n",
       "      <td>1.0</td>\n",
       "      <td>0</td>\n",
       "      <td>0</td>\n",
       "      <td>13</td>\n",
       "    </tr>\n",
       "    <tr>\n",
       "      <th>0</th>\n",
       "      <td>14</td>\n",
       "      <td>0</td>\n",
       "      <td>0</td>\n",
       "      <td>0</td>\n",
       "      <td>1</td>\n",
       "      <td>NaN</td>\n",
       "      <td>0</td>\n",
       "      <td>0</td>\n",
       "      <td>14</td>\n",
       "    </tr>\n",
       "    <tr>\n",
       "      <th>0</th>\n",
       "      <td>15</td>\n",
       "      <td>2</td>\n",
       "      <td>0</td>\n",
       "      <td>2</td>\n",
       "      <td>1</td>\n",
       "      <td>1.0</td>\n",
       "      <td>0</td>\n",
       "      <td>0</td>\n",
       "      <td>15</td>\n",
       "    </tr>\n",
       "  </tbody>\n",
       "</table>\n",
       "</div>"
      ],
      "text/plain": [
       "   skeleton_id  n_endpoints  n_branch_points  n_nodes  n_branches  \\\n",
       "0            1            2                0        2           1   \n",
       "0            2           11               13       24          25   \n",
       "0            3            2                0        2           1   \n",
       "0            4            2                0        2           1   \n",
       "0            5            2                0        2           1   \n",
       "0            6            2                0        2           1   \n",
       "0            7            6                4       10           9   \n",
       "0            8            2                0        2           1   \n",
       "0            9            2                0        2           1   \n",
       "0           10            0                0        0           0   \n",
       "0           11            2                0        2           1   \n",
       "0           12            3                1        4           3   \n",
       "0           13            2                0        2           1   \n",
       "0           14            0                0        0           1   \n",
       "0           15            2                0        2           1   \n",
       "\n",
       "   spine_length  n_cycle_basis  n_possible_undirected_cycles  label  \n",
       "0           1.0              0                             0      1  \n",
       "0          13.0              2                             3      2  \n",
       "0           1.0              0                             0      3  \n",
       "0           1.0              0                             0      4  \n",
       "0           1.0              0                             0      5  \n",
       "0           1.0              0                             0      6  \n",
       "0           5.0              0                             0      7  \n",
       "0           1.0              0                             0      8  \n",
       "0           1.0              0                             0      9  \n",
       "0           NaN              0                             0     10  \n",
       "0           1.0              0                             0     11  \n",
       "0           2.0              0                             0     12  \n",
       "0           1.0              0                             0     13  \n",
       "0           NaN              0                             0     14  \n",
       "0           1.0              0                             0     15  "
      ]
     },
     "execution_count": 11,
     "metadata": {},
     "output_type": "execute_result"
    }
   ],
   "source": [
    "features = nts.analyze_skeletons(\n",
    "    labeled_skeletons=labeled_skeletons,\n",
    "    parsed_skeletons=parsed_skeletons_all)\n",
    "features"
   ]
  },
  {
   "cell_type": "code",
   "execution_count": 16,
   "id": "510fc8dd",
   "metadata": {},
   "outputs": [
    {
     "data": {
      "text/html": [
       "<div>\n",
       "<style scoped>\n",
       "    .dataframe tbody tr th:only-of-type {\n",
       "        vertical-align: middle;\n",
       "    }\n",
       "\n",
       "    .dataframe tbody tr th {\n",
       "        vertical-align: top;\n",
       "    }\n",
       "\n",
       "    .dataframe thead th {\n",
       "        text-align: right;\n",
       "    }\n",
       "</style>\n",
       "<table border=\"1\" class=\"dataframe\">\n",
       "  <thead>\n",
       "    <tr style=\"text-align: right;\">\n",
       "      <th></th>\n",
       "      <th>n_endpoints</th>\n",
       "      <th>n_branch_points</th>\n",
       "      <th>n_nodes</th>\n",
       "      <th>n_branches</th>\n",
       "      <th>spine_length</th>\n",
       "      <th>n_cycle_basis</th>\n",
       "      <th>n_possible_undirected_cycles</th>\n",
       "    </tr>\n",
       "  </thead>\n",
       "  <tbody>\n",
       "    <tr>\n",
       "      <th>0</th>\n",
       "      <td>6</td>\n",
       "      <td>4</td>\n",
       "      <td>10</td>\n",
       "      <td>9</td>\n",
       "      <td>5.0</td>\n",
       "      <td>0</td>\n",
       "      <td>0</td>\n",
       "    </tr>\n",
       "  </tbody>\n",
       "</table>\n",
       "</div>"
      ],
      "text/plain": [
       "   n_endpoints  n_branch_points  n_nodes  n_branches  spine_length  \\\n",
       "0            6                4       10           9           5.0   \n",
       "\n",
       "   n_cycle_basis  n_possible_undirected_cycles  \n",
       "0              0                             0  "
      ]
     },
     "execution_count": 16,
     "metadata": {},
     "output_type": "execute_result"
    }
   ],
   "source": [
    "parsed_skeletons_single = parsed_skeletons_all * (labeled_skeletons == 7)\n",
    "nts.analyze_single_skeleton(\n",
    "            parsed_skeletons_single, neighborhood='n8')"
   ]
  },
  {
   "cell_type": "code",
   "execution_count": null,
   "id": "527e7d01",
   "metadata": {},
   "outputs": [],
   "source": []
  }
 ],
 "metadata": {
  "kernelspec": {
   "display_name": "Python 3 (ipykernel)",
   "language": "python",
   "name": "python3"
  },
  "language_info": {
   "codemirror_mode": {
    "name": "ipython",
    "version": 3
   },
   "file_extension": ".py",
   "mimetype": "text/x-python",
   "name": "python",
   "nbconvert_exporter": "python",
   "pygments_lexer": "ipython3",
   "version": "3.9.16"
  }
 },
 "nbformat": 4,
 "nbformat_minor": 5
}
